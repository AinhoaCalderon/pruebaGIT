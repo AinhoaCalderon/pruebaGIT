{
  "nbformat": 4,
  "nbformat_minor": 0,
  "metadata": {
    "colab": {
      "provenance": []
    },
    "kernelspec": {
      "name": "python3",
      "display_name": "Python 3"
    },
    "language_info": {
      "name": "python"
    }
  },
  "cells": [
    {
      "cell_type": "code",
      "source": [
        "!apt-get install -y ghostscript"
      ],
      "metadata": {
        "id": "lHdpHi5OJySq"
      },
      "execution_count": null,
      "outputs": []
    },
    {
      "cell_type": "code",
      "source": [
        "!pip install camelot-py[cv]\n",
        "\n",
        "import camelot"
      ],
      "metadata": {
        "id": "CsDUV5_zJOhK"
      },
      "execution_count": null,
      "outputs": []
    },
    {
      "cell_type": "code",
      "source": [
        "# Path del archivo PDF\n",
        "file = \"RNT_Enero2022.pdf\"\n",
        "\n",
        "# Extraer todas las tablas del archivo PDF y guardarlas como archivos de Excel\n",
        "tables = camelot.read_pdf(file, pages='all')\n",
        "\n",
        "for i in range(len(tables)):\n",
        "    tables[i].to_excel(f\"tabla_{i}.xlsx\")\n"
      ],
      "metadata": {
        "id": "gJMGIvhiJD3l"
      },
      "execution_count": null,
      "outputs": []
    }
  ]
}